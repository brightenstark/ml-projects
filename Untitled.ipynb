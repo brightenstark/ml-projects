{
 "cells": [
  {
   "cell_type": "code",
   "execution_count": 2,
   "id": "b3911d8c-b66c-4d51-a74c-d728c3b67569",
   "metadata": {},
   "outputs": [],
   "source": [
    "import pandas as pd\n",
    "import numpy as np\n",
    "import seaborn as sns\n",
    "import matplotlib.pyplot as plt"
   ]
  },
  {
   "cell_type": "code",
   "execution_count": 3,
   "id": "32dc0772-08d1-4976-881b-759580962165",
   "metadata": {},
   "outputs": [],
   "source": [
    "df=pd.read_csv('Warehouse_and_Retail_Sales.csv')"
   ]
  },
  {
   "cell_type": "code",
   "execution_count": 4,
   "id": "19dd6e29-7c72-45ce-bc4a-8f4936bc22d3",
   "metadata": {},
   "outputs": [
    {
     "data": {
      "text/plain": [
       "<bound method NDFrame.head of         YEAR  MONTH                             SUPPLIER ITEM CODE  \\\n",
       "0       2020      1    REPUBLIC NATIONAL DISTRIBUTING CO    100009   \n",
       "1       2020      1                            PWSWN INC    100024   \n",
       "2       2020      1              RELIABLE CHURCHILL LLLP      1001   \n",
       "3       2020      1            LANTERNA DISTRIBUTORS INC    100145   \n",
       "4       2020      1                 DIONYSOS IMPORTS INC    100293   \n",
       "...      ...    ...                                  ...       ...   \n",
       "307640  2020      9              BOSTON BEER CORPORATION     98868   \n",
       "307641  2020      9  GLOBAL OCEAN AND AIR CARGO SERVICES     98884   \n",
       "307642  2020      9                         HEINEKEN USA     98906   \n",
       "307643  2020      9              RELIABLE CHURCHILL LLLP     98914   \n",
       "307644  2020      9                CONSTANTINE WINES INC     98930   \n",
       "\n",
       "                           ITEM DESCRIPTION ITEM TYPE  RETAIL SALES  \\\n",
       "0                       BOOTLEG RED - 750ML      WINE          0.00   \n",
       "1                 MOMENT DE PLAISIR - 750ML      WINE          0.00   \n",
       "2       S SMITH ORGANIC PEAR CIDER - 18.7OZ      BEER          0.00   \n",
       "3             SCHLINK HAUS KABINETT - 750ML      WINE          0.00   \n",
       "4            SANTORINI GAVALA WHITE - 750ML      WINE          0.82   \n",
       "...                                     ...       ...           ...   \n",
       "307640           SAM ADAMS OCTOBERFEST 1/6K      KEGS          0.00   \n",
       "307641            HARAR BEER 4/6NR - 11.2OZ      BEER          1.50   \n",
       "307642                 DOS EQUIS LAGER 1/2K      KEGS          0.00   \n",
       "307643          LINDEMANS KRIEK NR - 25.4OZ      BEER          0.00   \n",
       "307644        ARIS GREEK LAGER 4/6NR - 11OZ      BEER          0.00   \n",
       "\n",
       "        RETAIL TRANSFERS  WAREHOUSE SALES  \n",
       "0                    0.0              2.0  \n",
       "1                    1.0              4.0  \n",
       "2                    0.0              1.0  \n",
       "3                    0.0              1.0  \n",
       "4                    0.0              0.0  \n",
       "...                  ...              ...  \n",
       "307640               0.0             54.0  \n",
       "307641               1.0              8.0  \n",
       "307642               0.0             22.0  \n",
       "307643               0.0              4.0  \n",
       "307644               0.0              0.0  \n",
       "\n",
       "[307645 rows x 9 columns]>"
      ]
     },
     "execution_count": 4,
     "metadata": {},
     "output_type": "execute_result"
    }
   ],
   "source": [
    "df.head"
   ]
  },
  {
   "cell_type": "code",
   "execution_count": 5,
   "id": "ea0dae28-9a3a-49f1-88f1-6764f9ec06cc",
   "metadata": {},
   "outputs": [
    {
     "data": {
      "text/plain": [
       "Index(['YEAR', 'MONTH', 'SUPPLIER', 'ITEM CODE', 'ITEM DESCRIPTION',\n",
       "       'ITEM TYPE', 'RETAIL SALES', 'RETAIL TRANSFERS', 'WAREHOUSE SALES'],\n",
       "      dtype='object')"
      ]
     },
     "execution_count": 5,
     "metadata": {},
     "output_type": "execute_result"
    }
   ],
   "source": [
    "df.columns"
   ]
  },
  {
   "cell_type": "code",
   "execution_count": 6,
   "id": "e03510aa-ec3e-4685-8901-6f8436e763f6",
   "metadata": {},
   "outputs": [],
   "source": [
    "mean1=df['RETAIL SALES'].mean()"
   ]
  },
  {
   "cell_type": "code",
   "execution_count": 7,
   "id": "8c20df36-2e35-4c76-8f43-220a97ec2b13",
   "metadata": {},
   "outputs": [
    {
     "data": {
      "text/plain": [
       "7.024071388171967"
      ]
     },
     "execution_count": 7,
     "metadata": {},
     "output_type": "execute_result"
    }
   ],
   "source": [
    "mean1"
   ]
  },
  {
   "cell_type": "code",
   "execution_count": 8,
   "id": "df1b2c65-b2d2-4526-983a-3a37e0b49046",
   "metadata": {},
   "outputs": [],
   "source": [
    "median1=df['RETAIL SALES'].median()"
   ]
  },
  {
   "cell_type": "code",
   "execution_count": 9,
   "id": "29a07747-6e07-412a-bc60-1d09ead86a5f",
   "metadata": {},
   "outputs": [
    {
     "data": {
      "text/plain": [
       "0.32"
      ]
     },
     "execution_count": 9,
     "metadata": {},
     "output_type": "execute_result"
    }
   ],
   "source": [
    "median1"
   ]
  },
  {
   "cell_type": "code",
   "execution_count": 10,
   "id": "067cb12e-3fe9-43ba-9bdd-fa51bad79330",
   "metadata": {},
   "outputs": [],
   "source": [
    "mode1=df['RETAIL SALES'].mode()"
   ]
  },
  {
   "cell_type": "code",
   "execution_count": 11,
   "id": "78ef9985-e9aa-46a4-a4d8-2ecb36f90660",
   "metadata": {},
   "outputs": [
    {
     "data": {
      "text/plain": [
       "0    0.0\n",
       "Name: RETAIL SALES, dtype: float64"
      ]
     },
     "execution_count": 11,
     "metadata": {},
     "output_type": "execute_result"
    }
   ],
   "source": [
    "mode1"
   ]
  },
  {
   "cell_type": "code",
   "execution_count": null,
   "id": "b67e1869-6ac8-4474-8f7a-1445b7df368a",
   "metadata": {},
   "outputs": [],
   "source": [
    "sns.barplot(x=df['ITEM DESCRIPTION'],y=df['WAREHOUSE SALES'],hue=df['YEAR'])"
   ]
  },
  {
   "cell_type": "code",
   "execution_count": null,
   "id": "1fd760b9-1b87-403b-a828-b16bfe89a0c1",
   "metadata": {},
   "outputs": [],
   "source": [
    "sns.heatmap(pd.crosstab(df['ITEM DESCRIPTION'],df['RETAIL SALES']))"
   ]
  },
  {
   "cell_type": "code",
   "execution_count": null,
   "id": "dd68c383-b92a-43ab-a78d-94dfdf8198df",
   "metadata": {},
   "outputs": [],
   "source": [
    "sns.lineplot(x=df['YEAR'],y=df['RETAIL SALES'])"
   ]
  },
  {
   "cell_type": "code",
   "execution_count": null,
   "id": "c9770c9f-5d1d-4536-b52d-0de6455c3668",
   "metadata": {},
   "outputs": [],
   "source": []
  }
 ],
 "metadata": {
  "kernelspec": {
   "display_name": "Python [conda env:base] *",
   "language": "python",
   "name": "conda-base-py"
  },
  "language_info": {
   "codemirror_mode": {
    "name": "ipython",
    "version": 3
   },
   "file_extension": ".py",
   "mimetype": "text/x-python",
   "name": "python",
   "nbconvert_exporter": "python",
   "pygments_lexer": "ipython3",
   "version": "3.12.7"
  }
 },
 "nbformat": 4,
 "nbformat_minor": 5
}
